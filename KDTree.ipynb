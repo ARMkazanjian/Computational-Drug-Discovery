{
 "cells": [
  {
   "cell_type": "markdown",
   "id": "7520b2ce-7239-4e4f-95a1-115718c0ad7b",
   "metadata": {},
   "source": [
    "## Bioactivity KDTRee Prediction Model"
   ]
  },
  {
   "cell_type": "markdown",
   "id": "03f06e38-365e-48b1-a6cd-d20473ae0d8b",
   "metadata": {},
   "source": [
    "### Importing Packages"
   ]
  },
  {
   "cell_type": "code",
   "execution_count": 7,
   "id": "c727d72a-c6df-4f9b-bebd-330797c55d86",
   "metadata": {},
   "outputs": [],
   "source": [
    "import pandas as pd\n",
    "import numpy as py\n",
    "import sklearn\n",
    "from sklearn.model_selection import train_test_split #Split the dataset into training and testing sets \n",
    "from sklearn.preprocessing import StandardScaler # Standardizing features by removing the mean\n",
    "from sklearn.neighbors import KNeighborsRegressor # K-Nearest Neighbors model for KDTree\n",
    "from sklearn.preprocessing import LabelEncoder # Encoding categorical labels into numerical values\n",
    "from sklearn.model_selection import cross_val_score, KFold\n",
    "from sklearn.metrics import mean_squared_error, r2_score # Used to evaluted precision of kdtree model"
   ]
  },
  {
   "cell_type": "markdown",
   "id": "f9305c6b-3f5a-451e-829c-a85bc8c08367",
   "metadata": {},
   "source": [
    "### Importing Bioactivity CSV Dataset"
   ]
  },
  {
   "cell_type": "code",
   "execution_count": 8,
   "id": "3e334d58-5ffc-43bf-80c7-08ad2a1b6f84",
   "metadata": {},
   "outputs": [],
   "source": [
    "# Set our dataset equal to ds variable\n",
    "ds = pd.read_csv('coronavirus_bioactivity_data_3class_pIC50_pubchem_fp.csv')\n",
    "\n",
    "# View first 5 lines of dataset\n",
    "ds.head()"
   ]
  },
  {
   "cell_type": "markdown",
   "id": "89fb30f1-8104-40f4-be51-dac8b44340e5",
   "metadata": {},
   "source": [
    "### Feature Identification"
   ]
  },
  {
   "cell_type": "code",
   "execution_count": 9,
   "id": "d687e3ad-0e39-4d2a-90fd-7a1f767cb06e",
   "metadata": {
    "scrolled": true
   },
   "outputs": [],
   "source": [
    "# Setting X equal to the IC50 inhibitiion concentration\n",
    "X = ds.drop('pIC50', axis=1)\n",
    "\n",
    "# Setting Y equal to all other features\n",
    "y = ds.pIC50\n"
   ]
  },
  {
   "cell_type": "markdown",
   "id": "d32c643a-45bf-47b0-a0cb-94eeb5010bcf",
   "metadata": {},
   "source": [
    "### Data Split"
   ]
  },
  {
   "cell_type": "code",
   "execution_count": 10,
   "id": "4f82d79f-b020-4f8d-b0a2-168dd2cc36b9",
   "metadata": {},
   "outputs": [],
   "source": [
    "# Dividing up our dataset into train and test sets\n",
    "X_train, X_test, y_train, y_test = train_test_split(X, y, test_size=0.2, random_state=42)"
   ]
  },
  {
   "cell_type": "markdown",
   "id": "08e31ce2-dc5b-4292-ab6b-485a09e3674f",
   "metadata": {},
   "source": [
    "### Feature Scaling"
   ]
  },
  {
   "cell_type": "markdown",
   "id": "d9452a07-97c2-4bff-bf54-5140b661e05c",
   "metadata": {},
   "source": [
    "#### Ensures that all features will contribute equally between the different data points"
   ]
  },
  {
   "cell_type": "code",
   "execution_count": 11,
   "id": "fdbf77af-a652-451b-b7b5-ac1df57c1ff8",
   "metadata": {
    "scrolled": true
   },
   "outputs": [],
   "source": [
    "scaler = StandardScaler()\n",
    "\n",
    "# Fit the scaler on the X data and transform it\n",
    "X = scaler.fit_transform(X)"
   ]
  },
  {
   "cell_type": "markdown",
   "id": "ec631f48-3aad-4cb9-b86e-69b2c150730c",
   "metadata": {},
   "source": [
    "### Building Model and Training"
   ]
  },
  {
   "cell_type": "code",
   "execution_count": 12,
   "id": "28d86ca0-2886-47e2-b677-a97a60d528ae",
   "metadata": {},
   "outputs": [],
   "source": [
    "# Define a K-Fold cross-validator using 5 splits\n",
    "kf = KFold(n_splits=5, shuffle=True, random_state=42)\n",
    "\n",
    "# kd tree boosting model using k-nearest regressor\n",
    "kdtree = KNeighborsRegressor(n_neighbors=5, algorithm='kd_tree')\n",
    "\n",
    "# Cross-validation using negative mean squared error scoring tool\n",
    "neg_mean_squared_scores = cross_val_score(kdtree, X, y, cv=kf, scoring='neg_mean_squared_error')\n",
    "\n",
    "# Ccross-validation using negative mean absolute error scoring tool\n",
    "neg_mean_absolute_scores = cross_val_score(kdtree, X, y, cv=kf, scoring='neg_mean_absolute_error')\n",
    "\n",
    "# Cross-validation using R-squared scoring tool\n",
    "r2_scores = cross_val_score(kdtree, X, y, cv=kf, scoring='r2')\n"
   ]
  },
  {
   "cell_type": "markdown",
   "id": "201232f2-2c9a-4c28-82dc-c3e06917bb8e",
   "metadata": {},
   "source": [
    "### Evaluating KDTree Model"
   ]
  },
  {
   "cell_type": "code",
   "execution_count": 13,
   "id": "c6ed5548-b188-4352-990d-2b227f5228a3",
   "metadata": {},
   "outputs": [
    {
     "name": "stdout",
     "output_type": "stream",
     "text": [
      "Mean Negative Mean Squared Error:  1.8385380319151061\n",
      "Mean Negative Mean Absolute Error: 1.11250571846247\n",
      "Mean R-Squared: 0.38660569782501375\n"
     ]
    }
   ],
   "source": [
    "# Display the mean values for the Negative Mean Squared Error over 5 folds\n",
    "print(\"Mean Negative Mean Squared Error: \", abs(py.mean(neg_mean_squared_scores)))\n",
    "\n",
    "# Display the mean values for the Negative Mean Absolute Error over 5 folds\n",
    "print(\"Mean Negative Mean Absolute Error:\", abs(py.mean(neg_mean_absolute_scores)))\n",
    "\n",
    "# Display the mean values for the R-Squared over 5 folds\n",
    "print(\"Mean R-Squared:\", py.mean(r2_scores))"
   ]
  }
 ],
 "metadata": {
  "kernelspec": {
   "display_name": "Python 3 (ipykernel)",
   "language": "python",
   "name": "python3"
  },
  "language_info": {
   "codemirror_mode": {
    "name": "ipython",
    "version": 3
   },
   "file_extension": ".py",
   "mimetype": "text/x-python",
   "name": "python",
   "nbconvert_exporter": "python",
   "pygments_lexer": "ipython3",
   "version": "3.12.4"
  }
 },
 "nbformat": 4,
 "nbformat_minor": 5
}
