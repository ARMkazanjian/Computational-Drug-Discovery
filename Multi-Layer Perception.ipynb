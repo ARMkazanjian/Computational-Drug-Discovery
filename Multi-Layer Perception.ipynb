{
 "cells": [
  {
   "cell_type": "markdown",
   "id": "7520b2ce-7239-4e4f-95a1-115718c0ad7b",
   "metadata": {},
   "source": [
    "## Bioactivity Multi-Layer Perception Prediction Model"
   ]
  },
  {
   "cell_type": "markdown",
   "id": "03f06e38-365e-48b1-a6cd-d20473ae0d8b",
   "metadata": {},
   "source": [
    "### Importing Packages"
   ]
  },
  {
   "cell_type": "code",
   "execution_count": 8,
   "id": "c727d72a-c6df-4f9b-bebd-330797c55d86",
   "metadata": {},
   "outputs": [],
   "source": [
    "import pandas as pd\n",
    "import numpy as py\n",
    "import sklearn\n",
    "from sklearn.model_selection import train_test_split #Split the dataset into training and testing sets \n",
    "from sklearn.preprocessing import StandardScaler # Standardizing features by removing the mean\n",
    "from sklearn.neural_network import MLPRegressor # Importing the Multi-layer Perception regressor  model\n",
    "from sklearn.preprocessing import LabelEncoder # Encoding categorical labels into numerical values\n",
    "from sklearn.model_selection import cross_val_score, KFold\n",
    "from sklearn.metrics import mean_squared_error, r2_score # Used to evaluted precision of MLP model"
   ]
  },
  {
   "cell_type": "markdown",
   "id": "f9305c6b-3f5a-451e-829c-a85bc8c08367",
   "metadata": {},
   "source": [
    "### Importing Bioactivity CSV Dataset"
   ]
  },
  {
   "cell_type": "code",
   "execution_count": 9,
   "id": "3e334d58-5ffc-43bf-80c7-08ad2a1b6f84",
   "metadata": {},
   "outputs": [
    {
     "data": {
      "text/html": [
       "<div>\n",
       "<style scoped>\n",
       "    .dataframe tbody tr th:only-of-type {\n",
       "        vertical-align: middle;\n",
       "    }\n",
       "\n",
       "    .dataframe tbody tr th {\n",
       "        vertical-align: top;\n",
       "    }\n",
       "\n",
       "    .dataframe thead th {\n",
       "        text-align: right;\n",
       "    }\n",
       "</style>\n",
       "<table border=\"1\" class=\"dataframe\">\n",
       "  <thead>\n",
       "    <tr style=\"text-align: right;\">\n",
       "      <th></th>\n",
       "      <th>PubchemFP0</th>\n",
       "      <th>PubchemFP1</th>\n",
       "      <th>PubchemFP2</th>\n",
       "      <th>PubchemFP3</th>\n",
       "      <th>PubchemFP4</th>\n",
       "      <th>PubchemFP5</th>\n",
       "      <th>PubchemFP6</th>\n",
       "      <th>PubchemFP7</th>\n",
       "      <th>PubchemFP8</th>\n",
       "      <th>PubchemFP9</th>\n",
       "      <th>...</th>\n",
       "      <th>PubchemFP872</th>\n",
       "      <th>PubchemFP873</th>\n",
       "      <th>PubchemFP874</th>\n",
       "      <th>PubchemFP875</th>\n",
       "      <th>PubchemFP876</th>\n",
       "      <th>PubchemFP877</th>\n",
       "      <th>PubchemFP878</th>\n",
       "      <th>PubchemFP879</th>\n",
       "      <th>PubchemFP880</th>\n",
       "      <th>pIC50</th>\n",
       "    </tr>\n",
       "  </thead>\n",
       "  <tbody>\n",
       "    <tr>\n",
       "      <th>0</th>\n",
       "      <td>1</td>\n",
       "      <td>1</td>\n",
       "      <td>0</td>\n",
       "      <td>0</td>\n",
       "      <td>0</td>\n",
       "      <td>0</td>\n",
       "      <td>0</td>\n",
       "      <td>0</td>\n",
       "      <td>0</td>\n",
       "      <td>1</td>\n",
       "      <td>...</td>\n",
       "      <td>0</td>\n",
       "      <td>0</td>\n",
       "      <td>0</td>\n",
       "      <td>0</td>\n",
       "      <td>0</td>\n",
       "      <td>0</td>\n",
       "      <td>0</td>\n",
       "      <td>0</td>\n",
       "      <td>0</td>\n",
       "      <td>5.142668</td>\n",
       "    </tr>\n",
       "    <tr>\n",
       "      <th>1</th>\n",
       "      <td>1</td>\n",
       "      <td>1</td>\n",
       "      <td>0</td>\n",
       "      <td>0</td>\n",
       "      <td>0</td>\n",
       "      <td>0</td>\n",
       "      <td>0</td>\n",
       "      <td>0</td>\n",
       "      <td>0</td>\n",
       "      <td>1</td>\n",
       "      <td>...</td>\n",
       "      <td>0</td>\n",
       "      <td>0</td>\n",
       "      <td>0</td>\n",
       "      <td>0</td>\n",
       "      <td>0</td>\n",
       "      <td>0</td>\n",
       "      <td>0</td>\n",
       "      <td>0</td>\n",
       "      <td>0</td>\n",
       "      <td>5.026872</td>\n",
       "    </tr>\n",
       "    <tr>\n",
       "      <th>2</th>\n",
       "      <td>1</td>\n",
       "      <td>1</td>\n",
       "      <td>0</td>\n",
       "      <td>0</td>\n",
       "      <td>0</td>\n",
       "      <td>0</td>\n",
       "      <td>0</td>\n",
       "      <td>0</td>\n",
       "      <td>0</td>\n",
       "      <td>1</td>\n",
       "      <td>...</td>\n",
       "      <td>0</td>\n",
       "      <td>0</td>\n",
       "      <td>0</td>\n",
       "      <td>0</td>\n",
       "      <td>0</td>\n",
       "      <td>0</td>\n",
       "      <td>0</td>\n",
       "      <td>0</td>\n",
       "      <td>0</td>\n",
       "      <td>4.869666</td>\n",
       "    </tr>\n",
       "    <tr>\n",
       "      <th>3</th>\n",
       "      <td>1</td>\n",
       "      <td>1</td>\n",
       "      <td>0</td>\n",
       "      <td>0</td>\n",
       "      <td>0</td>\n",
       "      <td>0</td>\n",
       "      <td>0</td>\n",
       "      <td>0</td>\n",
       "      <td>0</td>\n",
       "      <td>1</td>\n",
       "      <td>...</td>\n",
       "      <td>0</td>\n",
       "      <td>0</td>\n",
       "      <td>0</td>\n",
       "      <td>0</td>\n",
       "      <td>0</td>\n",
       "      <td>0</td>\n",
       "      <td>0</td>\n",
       "      <td>0</td>\n",
       "      <td>0</td>\n",
       "      <td>4.882397</td>\n",
       "    </tr>\n",
       "    <tr>\n",
       "      <th>4</th>\n",
       "      <td>1</td>\n",
       "      <td>1</td>\n",
       "      <td>0</td>\n",
       "      <td>0</td>\n",
       "      <td>0</td>\n",
       "      <td>0</td>\n",
       "      <td>0</td>\n",
       "      <td>0</td>\n",
       "      <td>0</td>\n",
       "      <td>1</td>\n",
       "      <td>...</td>\n",
       "      <td>0</td>\n",
       "      <td>0</td>\n",
       "      <td>0</td>\n",
       "      <td>0</td>\n",
       "      <td>0</td>\n",
       "      <td>0</td>\n",
       "      <td>0</td>\n",
       "      <td>0</td>\n",
       "      <td>0</td>\n",
       "      <td>5.698970</td>\n",
       "    </tr>\n",
       "  </tbody>\n",
       "</table>\n",
       "<p>5 rows × 882 columns</p>\n",
       "</div>"
      ],
      "text/plain": [
       "   PubchemFP0  PubchemFP1  PubchemFP2  PubchemFP3  PubchemFP4  PubchemFP5  \\\n",
       "0           1           1           0           0           0           0   \n",
       "1           1           1           0           0           0           0   \n",
       "2           1           1           0           0           0           0   \n",
       "3           1           1           0           0           0           0   \n",
       "4           1           1           0           0           0           0   \n",
       "\n",
       "   PubchemFP6  PubchemFP7  PubchemFP8  PubchemFP9  ...  PubchemFP872  \\\n",
       "0           0           0           0           1  ...             0   \n",
       "1           0           0           0           1  ...             0   \n",
       "2           0           0           0           1  ...             0   \n",
       "3           0           0           0           1  ...             0   \n",
       "4           0           0           0           1  ...             0   \n",
       "\n",
       "   PubchemFP873  PubchemFP874  PubchemFP875  PubchemFP876  PubchemFP877  \\\n",
       "0             0             0             0             0             0   \n",
       "1             0             0             0             0             0   \n",
       "2             0             0             0             0             0   \n",
       "3             0             0             0             0             0   \n",
       "4             0             0             0             0             0   \n",
       "\n",
       "   PubchemFP878  PubchemFP879  PubchemFP880     pIC50  \n",
       "0             0             0             0  5.142668  \n",
       "1             0             0             0  5.026872  \n",
       "2             0             0             0  4.869666  \n",
       "3             0             0             0  4.882397  \n",
       "4             0             0             0  5.698970  \n",
       "\n",
       "[5 rows x 882 columns]"
      ]
     },
     "execution_count": 9,
     "metadata": {},
     "output_type": "execute_result"
    }
   ],
   "source": [
    "# Set our dataset equal to ds variable\n",
    "ds = pd.read_csv('coronavirus_bioactivity_data_3class_pIC50_pubchem_fp.csv')\n",
    "\n",
    "# View first 5 lines of dataset\n",
    "ds.head()"
   ]
  },
  {
   "cell_type": "markdown",
   "id": "89fb30f1-8104-40f4-be51-dac8b44340e5",
   "metadata": {},
   "source": [
    "### Feature Identification"
   ]
  },
  {
   "cell_type": "code",
   "execution_count": 10,
   "id": "d687e3ad-0e39-4d2a-90fd-7a1f767cb06e",
   "metadata": {
    "scrolled": true
   },
   "outputs": [],
   "source": [
    "# Setting X equal to the IC50 inhibitiion concentration\n",
    "X = ds.drop('pIC50', axis=1)\n",
    "\n",
    "y = ds.pIC50\n"
   ]
  },
  {
   "cell_type": "markdown",
   "id": "d32c643a-45bf-47b0-a0cb-94eeb5010bcf",
   "metadata": {},
   "source": [
    "### Data Split"
   ]
  },
  {
   "cell_type": "code",
   "execution_count": 11,
   "id": "4f82d79f-b020-4f8d-b0a2-168dd2cc36b9",
   "metadata": {},
   "outputs": [],
   "source": [
    "# Dividing up our dataset into train and test sets\n",
    "X_train, X_test, y_train, y_test = train_test_split(X, y, test_size=0.2, random_state=42)"
   ]
  },
  {
   "cell_type": "markdown",
   "id": "08e31ce2-dc5b-4292-ab6b-485a09e3674f",
   "metadata": {},
   "source": [
    "### Feature Scaling"
   ]
  },
  {
   "cell_type": "markdown",
   "id": "d9452a07-97c2-4bff-bf54-5140b661e05c",
   "metadata": {},
   "source": [
    "#### Ensures that all features will contribute equally between the different data points"
   ]
  },
  {
   "cell_type": "code",
   "execution_count": 12,
   "id": "fdbf77af-a652-451b-b7b5-ac1df57c1ff8",
   "metadata": {
    "scrolled": true
   },
   "outputs": [],
   "source": [
    "scaler = StandardScaler()\n",
    "\n",
    "# Fit the scaler on the X data and transform it\n",
    "X = scaler.fit_transform(X)"
   ]
  },
  {
   "cell_type": "markdown",
   "id": "ec631f48-3aad-4cb9-b86e-69b2c150730c",
   "metadata": {},
   "source": [
    "### Building Model and Training"
   ]
  },
  {
   "cell_type": "code",
   "execution_count": 13,
   "id": "28d86ca0-2886-47e2-b677-a97a60d528ae",
   "metadata": {},
   "outputs": [
    {
     "name": "stderr",
     "output_type": "stream",
     "text": [
      "C:\\Users\\armkz\\AppData\\Local\\Packages\\PythonSoftwareFoundation.Python.3.12_qbz5n2kfra8p0\\LocalCache\\local-packages\\Python312\\site-packages\\sklearn\\neural_network\\_multilayer_perceptron.py:691: ConvergenceWarning: Stochastic Optimizer: Maximum iterations (200) reached and the optimization hasn't converged yet.\n",
      "  warnings.warn(\n"
     ]
    }
   ],
   "source": [
    "# Define a K-Fold cross-validator using 5 splits\n",
    "kf = KFold(n_splits=5, shuffle=True, random_state=42)\n",
    "\n",
    "# Initialize MLP regressor\n",
    "mlp = MLPRegressor()\n",
    "\n",
    "# Train the MLP regressor model\n",
    "mlp.fit(X_train, y_train)\n",
    "\n",
    "# Cross-validation using negative mean squared error scoring tool\n",
    "neg_mean_squared_scores = cross_val_score(mlp, X, y, cv=kf, scoring='neg_mean_squared_error')\n",
    "\n",
    "# Ccross-validation using negative mean absolute error scoring tool\n",
    "neg_mean_absolute_scores = cross_val_score(mlp, X, y, cv=kf, scoring='neg_mean_absolute_error')\n",
    "\n",
    "# Cross-validation using R-squared scoring tool\n",
    "r2_scores = cross_val_score(mlp, X, y, cv=kf, scoring='r2')\n"
   ]
  },
  {
   "cell_type": "markdown",
   "id": "201232f2-2c9a-4c28-82dc-c3e06917bb8e",
   "metadata": {},
   "source": [
    "### Evaluating MLP Model"
   ]
  },
  {
   "cell_type": "code",
   "execution_count": 14,
   "id": "c6ed5548-b188-4352-990d-2b227f5228a3",
   "metadata": {},
   "outputs": [
    {
     "name": "stdout",
     "output_type": "stream",
     "text": [
      "Mean Negative Mean Squared Error:  10.839988177295858\n",
      "Mean Negative Mean Absolute Error: 2.455105602540909\n",
      "Mean R-Squared: -3.534873598299913\n"
     ]
    }
   ],
   "source": [
    "# Display the mean values for the Negative Mean Squared Error over 5 folds\n",
    "print(\"Mean Negative Mean Squared Error: \", abs(py.mean(neg_mean_squared_scores)))\n",
    "\n",
    "# Display the mean values for the Negative Mean Absolute Error over 5 folds\n",
    "print(\"Mean Negative Mean Absolute Error:\", abs(py.mean(neg_mean_absolute_scores)))\n",
    "\n",
    "# Display the mean values for the R-Squared over 5 folds\n",
    "print(\"Mean R-Squared:\", py.mean(r2_scores))"
   ]
  }
 ],
 "metadata": {
  "kernelspec": {
   "display_name": "Python 3 (ipykernel)",
   "language": "python",
   "name": "python3"
  },
  "language_info": {
   "codemirror_mode": {
    "name": "ipython",
    "version": 3
   },
   "file_extension": ".py",
   "mimetype": "text/x-python",
   "name": "python",
   "nbconvert_exporter": "python",
   "pygments_lexer": "ipython3",
   "version": "3.12.4"
  }
 },
 "nbformat": 4,
 "nbformat_minor": 5
}
